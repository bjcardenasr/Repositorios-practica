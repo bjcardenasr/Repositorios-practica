{
 "cells": [
  {
   "cell_type": "code",
   "execution_count": 1,
   "id": "a369f4ac",
   "metadata": {},
   "outputs": [],
   "source": [
    "import numpy as np\n",
    "A = np.array([[1,2,3],[4,5,6],[7,8,9],[10,11,12]])\n",
    "B = np.array([[2,3],[5,7],[11,13]])"
   ]
  },
  {
   "cell_type": "code",
   "execution_count": 3,
   "id": "8711fed8",
   "metadata": {},
   "outputs": [
    {
     "name": "stdout",
     "output_type": "stream",
     "text": [
      "(4, 3)\n"
     ]
    }
   ],
   "source": [
    "print(A.shape)"
   ]
  },
  {
   "cell_type": "code",
   "execution_count": 5,
   "id": "d3060b0d",
   "metadata": {},
   "outputs": [
    {
     "name": "stdout",
     "output_type": "stream",
     "text": [
      "(3, 2)\n"
     ]
    }
   ],
   "source": [
    "print(B.shape)"
   ]
  },
  {
   "cell_type": "code",
   "execution_count": 7,
   "id": "1ec01d59",
   "metadata": {},
   "outputs": [
    {
     "name": "stdout",
     "output_type": "stream",
     "text": [
      "[[ 45  56]\n",
      " [ 99 125]\n",
      " [153 194]\n",
      " [207 263]]\n"
     ]
    }
   ],
   "source": [
    "C = A.dot(B)\n",
    "print(C)"
   ]
  }
 ],
 "metadata": {
  "kernelspec": {
   "display_name": "Python 3 (ipykernel)",
   "language": "python",
   "name": "python3"
  },
  "language_info": {
   "codemirror_mode": {
    "name": "ipython",
    "version": 3
   },
   "file_extension": ".py",
   "mimetype": "text/x-python",
   "name": "python",
   "nbconvert_exporter": "python",
   "pygments_lexer": "ipython3",
   "version": "3.11.5"
  }
 },
 "nbformat": 4,
 "nbformat_minor": 5
}
