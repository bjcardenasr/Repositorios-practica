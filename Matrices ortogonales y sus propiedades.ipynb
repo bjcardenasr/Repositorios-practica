{
 "cells": [
  {
   "cell_type": "code",
   "execution_count": 2,
   "id": "8239939c",
   "metadata": {},
   "outputs": [],
   "source": [
    "import numpy as np"
   ]
  },
  {
   "cell_type": "code",
   "execution_count": 4,
   "id": "5bc49678",
   "metadata": {},
   "outputs": [
    {
     "name": "stdout",
     "output_type": "stream",
     "text": [
      "[[1 0 0]\n",
      " [0 1 0]\n",
      " [0 0 1]]\n"
     ]
    }
   ],
   "source": [
    "matriz = np.array ([[1,0,0],\n",
    "                   [0,1,0],\n",
    "                   [0,0,1],]\n",
    "                \n",
    "                  )\n",
    "\n",
    "print(matriz)"
   ]
  },
  {
   "cell_type": "code",
   "execution_count": 5,
   "id": "cc931a37",
   "metadata": {},
   "outputs": [
    {
     "name": "stdout",
     "output_type": "stream",
     "text": [
      "0\n"
     ]
    }
   ],
   "source": [
    "print(matriz[:,0].dot(matriz[:,1]))"
   ]
  },
  {
   "cell_type": "code",
   "execution_count": 6,
   "id": "0dc0d2d1",
   "metadata": {},
   "outputs": [
    {
     "name": "stdout",
     "output_type": "stream",
     "text": [
      "0\n"
     ]
    }
   ],
   "source": [
    "print(matriz[:,0].dot(matriz[:,2]))"
   ]
  },
  {
   "cell_type": "code",
   "execution_count": 7,
   "id": "5c472a2c",
   "metadata": {},
   "outputs": [
    {
     "name": "stdout",
     "output_type": "stream",
     "text": [
      "0\n"
     ]
    }
   ],
   "source": [
    "print(matriz[:,1].dot(matriz[:,2]))"
   ]
  },
  {
   "cell_type": "code",
   "execution_count": 9,
   "id": "bd071ac7",
   "metadata": {},
   "outputs": [
    {
     "name": "stdout",
     "output_type": "stream",
     "text": [
      "1.0\n",
      "1.0\n",
      "1.0\n"
     ]
    }
   ],
   "source": [
    "print (np.linalg.norm(matriz[:,0]))\n",
    "print (np.linalg.norm(matriz[:,1]))\n",
    "print (np.linalg.norm(matriz[:,2]))"
   ]
  },
  {
   "cell_type": "code",
   "execution_count": 11,
   "id": "e25ccf38",
   "metadata": {},
   "outputs": [
    {
     "name": "stdout",
     "output_type": "stream",
     "text": [
      "0\n",
      "0\n",
      "0\n"
     ]
    }
   ],
   "source": [
    "print(matriz[0,:].dot(matriz[1,:]))\n",
    "print(matriz[0,:].dot(matriz[2,:]))\n",
    "print(matriz[1,:].dot(matriz[2,:]))"
   ]
  },
  {
   "cell_type": "code",
   "execution_count": 12,
   "id": "35b5959e",
   "metadata": {},
   "outputs": [
    {
     "name": "stdout",
     "output_type": "stream",
     "text": [
      "[[ 0.86231887  0.50636564]\n",
      " [-0.50636564  0.86231887]]\n"
     ]
    }
   ],
   "source": [
    "A = np.array ([[np.cos(100), -np.sin(100)],\n",
    "              [np.sin(100),np.cos(100)]])\n",
    "\n",
    "print(A)"
   ]
  },
  {
   "cell_type": "code",
   "execution_count": 13,
   "id": "6f94bc54",
   "metadata": {},
   "outputs": [
    {
     "name": "stdout",
     "output_type": "stream",
     "text": [
      "0.9999999999999999\n",
      "0.9999999999999999\n",
      "0.9999999999999999\n",
      "0.9999999999999999\n"
     ]
    }
   ],
   "source": [
    "print (np.linalg.norm(A[0,:]))\n",
    "print (np.linalg.norm(A[1,:]))\n",
    "print (np.linalg.norm(A[:,0]))\n",
    "print (np.linalg.norm(A[:,0]))"
   ]
  },
  {
   "cell_type": "code",
   "execution_count": 15,
   "id": "afbfc924",
   "metadata": {},
   "outputs": [
    {
     "name": "stdout",
     "output_type": "stream",
     "text": [
      "0.0\n",
      "0.0\n"
     ]
    }
   ],
   "source": [
    "print (A[0,:].dot(A[1,:]))\n",
    "print (A[:,0].dot(A[:,1]))"
   ]
  },
  {
   "cell_type": "code",
   "execution_count": null,
   "id": "93c19648",
   "metadata": {},
   "outputs": [],
   "source": []
  }
 ],
 "metadata": {
  "kernelspec": {
   "display_name": "Python 3 (ipykernel)",
   "language": "python",
   "name": "python3"
  },
  "language_info": {
   "codemirror_mode": {
    "name": "ipython",
    "version": 3
   },
   "file_extension": ".py",
   "mimetype": "text/x-python",
   "name": "python",
   "nbconvert_exporter": "python",
   "pygments_lexer": "ipython3",
   "version": "3.11.4"
  }
 },
 "nbformat": 4,
 "nbformat_minor": 5
}
