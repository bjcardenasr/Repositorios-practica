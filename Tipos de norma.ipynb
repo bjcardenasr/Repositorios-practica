{
 "cells": [
  {
   "cell_type": "code",
   "execution_count": 2,
   "id": "cb5fdf7a",
   "metadata": {},
   "outputs": [],
   "source": [
    "import numpy as np"
   ]
  },
  {
   "cell_type": "code",
   "execution_count": 4,
   "id": "b3b1e132",
   "metadata": {},
   "outputs": [
    {
     "name": "stdout",
     "output_type": "stream",
     "text": [
      "4.0\n"
     ]
    }
   ],
   "source": [
    "vector = np.array([1,2,0,5,6,0])\n",
    "print(np.linalg.norm(vector, ord=0))"
   ]
  },
  {
   "cell_type": "code",
   "execution_count": 10,
   "id": "c21e9adf",
   "metadata": {},
   "outputs": [
    {
     "name": "stdout",
     "output_type": "stream",
     "text": [
      "8.0\n"
     ]
    }
   ],
   "source": [
    "vector = np.array([1,-1,1,-1,4])\n",
    "print(np.linalg.norm(vector, ord=1))"
   ]
  },
  {
   "cell_type": "code",
   "execution_count": 12,
   "id": "7d5b4cc1",
   "metadata": {},
   "outputs": [
    {
     "name": "stdout",
     "output_type": "stream",
     "text": [
      "2.23606797749979\n"
     ]
    }
   ],
   "source": [
    "vector = np.array([1,2])\n",
    "print(np.linalg.norm(vector, ord=2))"
   ]
  },
  {
   "cell_type": "code",
   "execution_count": 13,
   "id": "cb1641fb",
   "metadata": {},
   "outputs": [
    {
     "name": "stdout",
     "output_type": "stream",
     "text": [
      "5.000000000000001\n"
     ]
    }
   ],
   "source": [
    "print (np.linalg.norm(vector, ord=2)**2)"
   ]
  },
  {
   "cell_type": "code",
   "execution_count": 15,
   "id": "a441bc4a",
   "metadata": {},
   "outputs": [
    {
     "name": "stdout",
     "output_type": "stream",
     "text": [
      "91.0\n"
     ]
    }
   ],
   "source": [
    "vector = np.array([1,2,3,4,5,6])\n",
    "print(np.linalg.norm(vector, ord=2)**2)"
   ]
  },
  {
   "cell_type": "code",
   "execution_count": 16,
   "id": "a3a90a8c",
   "metadata": {},
   "outputs": [
    {
     "name": "stdout",
     "output_type": "stream",
     "text": [
      "91\n"
     ]
    }
   ],
   "source": [
    "print (vector.T.dot(vector))"
   ]
  },
  {
   "cell_type": "code",
   "execution_count": 19,
   "id": "32ea742e",
   "metadata": {},
   "outputs": [
    {
     "name": "stdout",
     "output_type": "stream",
     "text": [
      "100.0\n"
     ]
    }
   ],
   "source": [
    "vector = np.array([1,2,3,-100])\n",
    "print(np.linalg.norm(vector, ord= np.inf))"
   ]
  },
  {
   "cell_type": "code",
   "execution_count": null,
   "id": "d87af191",
   "metadata": {},
   "outputs": [],
   "source": []
  },
  {
   "cell_type": "code",
   "execution_count": null,
   "id": "5b6806b2",
   "metadata": {},
   "outputs": [],
   "source": []
  },
  {
   "cell_type": "code",
   "execution_count": null,
   "id": "7c57404e",
   "metadata": {},
   "outputs": [],
   "source": []
  }
 ],
 "metadata": {
  "kernelspec": {
   "display_name": "Python 3 (ipykernel)",
   "language": "python",
   "name": "python3"
  },
  "language_info": {
   "codemirror_mode": {
    "name": "ipython",
    "version": 3
   },
   "file_extension": ".py",
   "mimetype": "text/x-python",
   "name": "python",
   "nbconvert_exporter": "python",
   "pygments_lexer": "ipython3",
   "version": "3.11.4"
  }
 },
 "nbformat": 4,
 "nbformat_minor": 5
}
