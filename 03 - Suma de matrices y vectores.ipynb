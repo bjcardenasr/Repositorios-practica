{
 "cells": [
  {
   "cell_type": "code",
   "execution_count": 21,
   "id": "95739053",
   "metadata": {},
   "outputs": [],
   "source": [
    "import numpy as np"
   ]
  },
  {
   "cell_type": "code",
   "execution_count": 29,
   "id": "fe5d7fe7",
   "metadata": {},
   "outputs": [],
   "source": [
    "escalar = 5.769\n",
    "vector = np.array ([3,4,5,5,7])\n",
    "matriz = np.array([[1,2], [3,4], [5,6], [8,16], [74,3]])"
   ]
  },
  {
   "cell_type": "code",
   "execution_count": 26,
   "id": "4ac7a91a",
   "metadata": {},
   "outputs": [
    {
     "name": "stdout",
     "output_type": "stream",
     "text": [
      "[[ 4  7 10]\n",
      " [ 5  8 11]]\n"
     ]
    }
   ],
   "source": [
    "A = matriz.T + vector\n",
    "print(A)"
   ]
  },
  {
   "cell_type": "code",
   "execution_count": 27,
   "id": "e424a7cd",
   "metadata": {},
   "outputs": [
    {
     "data": {
      "text/plain": [
       "array([[1, 3, 5],\n",
       "       [2, 4, 6]])"
      ]
     },
     "execution_count": 27,
     "metadata": {},
     "output_type": "execute_result"
    }
   ],
   "source": [
    "matriz.T"
   ]
  },
  {
   "cell_type": "code",
   "execution_count": 30,
   "id": "dc549278",
   "metadata": {},
   "outputs": [
    {
     "name": "stdout",
     "output_type": "stream",
     "text": [
      "[[ 43  44]\n",
      " [ 45  46]\n",
      " [ 47  48]\n",
      " [ 50  58]\n",
      " [116  45]]\n"
     ]
    }
   ],
   "source": [
    "C = matriz + 42\n",
    "print(C)"
   ]
  },
  {
   "cell_type": "code",
   "execution_count": 32,
   "id": "aef3adf3",
   "metadata": {},
   "outputs": [
    {
     "name": "stdout",
     "output_type": "stream",
     "text": [
      "[[ 4  7 10 13 81]\n",
      " [ 5  8 11 21 10]]\n"
     ]
    }
   ],
   "source": [
    "## Ejercicio\n",
    "W = matriz.T + vector\n",
    "print(W)"
   ]
  },
  {
   "cell_type": "code",
   "execution_count": 37,
   "id": "6a73e671",
   "metadata": {},
   "outputs": [
    {
     "name": "stdout",
     "output_type": "stream",
     "text": [
      "[[6 3 1 6 1]]\n"
     ]
    }
   ],
   "source": [
    "v_5 = np.random.randint(low = 3, high=5, size =(5, 5)) \n",
    "m_5 = np.random.randint(low = 1, high=9, size =(1,5)) \n",
    "print(m_5)\n"
   ]
  }
 ],
 "metadata": {
  "kernelspec": {
   "display_name": "Python 3 (ipykernel)",
   "language": "python",
   "name": "python3"
  },
  "language_info": {
   "codemirror_mode": {
    "name": "ipython",
    "version": 3
   },
   "file_extension": ".py",
   "mimetype": "text/x-python",
   "name": "python",
   "nbconvert_exporter": "python",
   "pygments_lexer": "ipython3",
   "version": "3.11.5"
  }
 },
 "nbformat": 4,
 "nbformat_minor": 5
}
