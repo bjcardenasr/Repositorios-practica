{
 "cells": [
  {
   "cell_type": "code",
   "execution_count": 1,
   "id": "ff18fd3b",
   "metadata": {},
   "outputs": [],
   "source": [
    "%matplotlib inline\n",
    "\n",
    "import numpy as np\n",
    "import matplotlib.pyplot as plt"
   ]
  },
  {
   "cell_type": "code",
   "execution_count": 2,
   "id": "82a306d9",
   "metadata": {},
   "outputs": [
    {
     "name": "stdout",
     "output_type": "stream",
     "text": [
      "[[3 2]\n",
      " [4 1]]\n"
     ]
    }
   ],
   "source": [
    "X = np.array ([[3,2], [4,1]])\n",
    "print(X)"
   ]
  },
  {
   "cell_type": "code",
   "execution_count": 3,
   "id": "7c7aea4c",
   "metadata": {},
   "outputs": [
    {
     "name": "stdout",
     "output_type": "stream",
     "text": [
      "[ 5. -1.]\n",
      "[[ 0.70710678 -0.4472136 ]\n",
      " [ 0.70710678  0.89442719]]\n"
     ]
    }
   ],
   "source": [
    "autovalores, autovectores = np.linalg.eig (X)\n",
    "print (autovalores)\n",
    "print(autovectores)"
   ]
  },
  {
   "cell_type": "code",
   "execution_count": 8,
   "id": "bcbe8085",
   "metadata": {},
   "outputs": [],
   "source": [
    "A_cal= autovalores.dot (np.diag(autovalores)).dot (np.linalg.inv(autovectores))"
   ]
  },
  {
   "cell_type": "code",
   "execution_count": 9,
   "id": "587b90c5",
   "metadata": {},
   "outputs": [
    {
     "name": "stdout",
     "output_type": "stream",
     "text": [
      "[22.82487005 12.53046901]\n"
     ]
    }
   ],
   "source": [
    "print(A_cal)"
   ]
  },
  {
   "cell_type": "code",
   "execution_count": 10,
   "id": "ace7cff1",
   "metadata": {},
   "outputs": [
    {
     "name": "stdout",
     "output_type": "stream",
     "text": [
      "[[3 2]\n",
      " [2 3]]\n"
     ]
    }
   ],
   "source": [
    "A = np.array([[3,2],[2,3]])\n",
    "print(A)"
   ]
  },
  {
   "cell_type": "code",
   "execution_count": 12,
   "id": "33a266f9",
   "metadata": {},
   "outputs": [
    {
     "name": "stdout",
     "output_type": "stream",
     "text": [
      "[[3 2]\n",
      " [2 3]]\n"
     ]
    }
   ],
   "source": [
    "AT = A.T\n",
    "print(AT)"
   ]
  },
  {
   "cell_type": "code",
   "execution_count": 14,
   "id": "f3dbc3d5",
   "metadata": {},
   "outputs": [
    {
     "name": "stdout",
     "output_type": "stream",
     "text": [
      "[[ True  True]\n",
      " [ True  True]]\n"
     ]
    }
   ],
   "source": [
    "print (A==AT)"
   ]
  },
  {
   "cell_type": "code",
   "execution_count": null,
   "id": "f118efc3",
   "metadata": {},
   "outputs": [],
   "source": []
  },
  {
   "cell_type": "code",
   "execution_count": null,
   "id": "8bc9ac9e",
   "metadata": {},
   "outputs": [],
   "source": []
  },
  {
   "cell_type": "code",
   "execution_count": null,
   "id": "ccdb2474",
   "metadata": {},
   "outputs": [],
   "source": []
  }
 ],
 "metadata": {
  "kernelspec": {
   "display_name": "Python 3 (ipykernel)",
   "language": "python",
   "name": "python3"
  },
  "language_info": {
   "codemirror_mode": {
    "name": "ipython",
    "version": 3
   },
   "file_extension": ".py",
   "mimetype": "text/x-python",
   "name": "python",
   "nbconvert_exporter": "python",
   "pygments_lexer": "ipython3",
   "version": "3.11.4"
  }
 },
 "nbformat": 4,
 "nbformat_minor": 5
}
