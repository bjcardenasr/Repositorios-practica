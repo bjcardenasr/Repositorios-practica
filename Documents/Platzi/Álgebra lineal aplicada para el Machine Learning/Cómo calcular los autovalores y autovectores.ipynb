{
 "cells": [
  {
   "cell_type": "code",
   "execution_count": 2,
   "id": "bce7c8e4",
   "metadata": {},
   "outputs": [],
   "source": [
    "%matplotlib inline\n",
    "\n",
    "import numpy as np\n",
    "import matplotlib.pyplot as plt"
   ]
  },
  {
   "cell_type": "code",
   "execution_count": 3,
   "id": "56ba0395",
   "metadata": {},
   "outputs": [
    {
     "name": "stdout",
     "output_type": "stream",
     "text": [
      "[[3 2]\n",
      " [4 1]]\n"
     ]
    }
   ],
   "source": [
    "X = np.array ([[3,2], [4,1]])\n",
    "print(X)"
   ]
  },
  {
   "cell_type": "code",
   "execution_count": 5,
   "id": "b1ba0d63",
   "metadata": {},
   "outputs": [
    {
     "name": "stdout",
     "output_type": "stream",
     "text": [
      "(array([ 5., -1.]), array([[ 0.70710678, -0.4472136 ],\n",
      "       [ 0.70710678,  0.89442719]]))\n"
     ]
    }
   ],
   "source": [
    "print (np.linalg.eig(X))"
   ]
  },
  {
   "cell_type": "code",
   "execution_count": 7,
   "id": "356d5920",
   "metadata": {},
   "outputs": [
    {
     "name": "stdout",
     "output_type": "stream",
     "text": [
      "[ 5. -1.]\n"
     ]
    }
   ],
   "source": [
    "autovalores, autovectores = np.linalg.eig (X)\n",
    "print (autovalores)"
   ]
  },
  {
   "cell_type": "code",
   "execution_count": 9,
   "id": "ec406f9d",
   "metadata": {},
   "outputs": [
    {
     "name": "stdout",
     "output_type": "stream",
     "text": [
      "[0.70710678 0.70710678]\n"
     ]
    }
   ],
   "source": [
    "print(autovectores[:,0])"
   ]
  },
  {
   "cell_type": "code",
   "execution_count": 10,
   "id": "782b34de",
   "metadata": {},
   "outputs": [
    {
     "name": "stdout",
     "output_type": "stream",
     "text": [
      "[-0.4472136   0.89442719]\n"
     ]
    }
   ],
   "source": [
    "print(autovectores[:,1])"
   ]
  },
  {
   "cell_type": "code",
   "execution_count": 11,
   "id": "fd1031fa",
   "metadata": {},
   "outputs": [
    {
     "name": "stdout",
     "output_type": "stream",
     "text": [
      "[0.70710678 0.89442719]\n"
     ]
    }
   ],
   "source": [
    "print(autovectores[1,:])"
   ]
  },
  {
   "cell_type": "code",
   "execution_count": null,
   "id": "96ea8697",
   "metadata": {},
   "outputs": [],
   "source": [
    "print(autovectores[2,:])"
   ]
  },
  {
   "cell_type": "code",
   "execution_count": 15,
   "id": "b5ba2860",
   "metadata": {},
   "outputs": [
    {
     "name": "stdout",
     "output_type": "stream",
     "text": [
      "[[ 0.70710678  0.70710678]\n",
      " [-0.4472136   0.89442719]]\n"
     ]
    }
   ],
   "source": [
    "transpuesta_autovectores = autovectores.T\n",
    "print(transpuesta_autovectores)"
   ]
  },
  {
   "cell_type": "code",
   "execution_count": 16,
   "id": "c8db3235",
   "metadata": {},
   "outputs": [],
   "source": [
    "%run \"..\\FuncionesAuxiliares\\graficarVectores.ipynb\"\""
   ]
  },
  {
   "cell_type": "code",
   "execution_count": 17,
   "id": "b2e08efa",
   "metadata": {},
   "outputs": [],
   "source": [
    "v = np.array([[-1],[2]])\n",
    "Xv = X.dot(v)\n",
    "v_np = autovecores[:,1]"
   ]
  },
  {
   "cell_type": "code",
   "execution_count": 33,
   "id": "35294155",
   "metadata": {},
   "outputs": [
    {
     "data": {
      "text/plain": [
       "(-4.0, 2.0)"
      ]
     },
     "execution_count": 33,
     "metadata": {},
     "output_type": "execute_result"
    },
    {
     "data": {
      "image/png": "[encoded data removed]",
      "text/plain": [
       "<Figure size 640x480 with 1 Axes>"
      ]
     },
     "metadata": {},
     "output_type": "display_data"
    }
   ],
   "source": [
    "graficarVectores ([Xv.flatten(),v.flatten(), v_np.flatten()], cols = [\"green\",\"orange\",\"blue\"]),\n",
    "\n",
    "plt.ylim (-4,4)\n",
    "plt.xlim (-4,2)"
   ]
  },
  {
   "cell_type": "code",
   "execution_count": 21,
   "id": "87aae0d7",
   "metadata": {},
   "outputs": [
    {
     "name": "stdout",
     "output_type": "stream",
     "text": [
      "[ 1 -2]\n",
      "[[ 1]\n",
      " [-2]]\n"
     ]
    }
   ],
   "source": [
    "print(Xv.flatten())\n",
    "##\n",
    "print(Xv)"
   ]
  },
  {
   "cell_type": "code",
   "execution_count": 34,
   "id": "cad2070c",
   "metadata": {},
   "outputs": [
    {
     "name": "stdout",
     "output_type": "stream",
     "text": [
      "[[ 1]\n",
      " [-2]]\n"
     ]
    }
   ],
   "source": [
    "Xv = X.dot(v)\n",
    "print(Xv)"
   ]
  },
  {
   "cell_type": "code",
   "execution_count": null,
   "id": "2acc4555",
   "metadata": {},
   "outputs": [],
   "source": []
  }
 ],
 "metadata": {
  "kernelspec": {
   "display_name": "Python 3 (ipykernel)",
   "language": "python",
   "name": "python3"
  },
  "language_info": {
   "codemirror_mode": {
    "name": "ipython",
    "version": 3
   },
   "file_extension": ".py",
   "mimetype": "text/x-python",
   "name": "python",
   "nbconvert_exporter": "python",
   "pygments_lexer": "ipython3",
   "version": "3.11.4"
  }
 },
 "nbformat": 4,
 "nbformat_minor": 5
}
