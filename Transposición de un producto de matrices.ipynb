{
 "cells": [
  {
   "cell_type": "code",
   "execution_count": 2,
   "id": "d707aef9",
   "metadata": {},
   "outputs": [],
   "source": [
    "import numpy as np"
   ]
  },
  {
   "cell_type": "code",
   "execution_count": 8,
   "id": "5e0fa8ff",
   "metadata": {},
   "outputs": [],
   "source": [
    "matriz1 = np.random.randint(1, 50, size=(3, 3, 3))"
   ]
  },
  {
   "cell_type": "code",
   "execution_count": 10,
   "id": "e2a6da63",
   "metadata": {},
   "outputs": [
    {
     "name": "stdout",
     "output_type": "stream",
     "text": [
      "[[[16 21 12]\n",
      "  [18 34 13]\n",
      "  [14 17 42]]\n",
      "\n",
      " [[17 19 23]\n",
      "  [26 11 46]\n",
      "  [21 37  8]]\n",
      "\n",
      " [[13 11 10]\n",
      "  [33 28 29]\n",
      "  [24 40 16]]]\n"
     ]
    }
   ],
   "source": [
    "print(matriz1)"
   ]
  },
  {
   "cell_type": "code",
   "execution_count": 12,
   "id": "088e0189",
   "metadata": {},
   "outputs": [],
   "source": [
    "A = np.array ([[2,3],[5,7],[11,13]])\n",
    "B = np.array ([[1,3],[2,1]])"
   ]
  },
  {
   "cell_type": "code",
   "execution_count": 13,
   "id": "ad42cf13",
   "metadata": {},
   "outputs": [
    {
     "name": "stdout",
     "output_type": "stream",
     "text": [
      "[[ 2  3]\n",
      " [ 5  7]\n",
      " [11 13]]\n"
     ]
    }
   ],
   "source": [
    "print(A)"
   ]
  },
  {
   "cell_type": "code",
   "execution_count": 15,
   "id": "497c4458",
   "metadata": {},
   "outputs": [
    {
     "name": "stdout",
     "output_type": "stream",
     "text": [
      "[[1 3]\n",
      " [2 1]]\n"
     ]
    }
   ],
   "source": [
    "print(B)"
   ]
  },
  {
   "cell_type": "code",
   "execution_count": 16,
   "id": "3355e757",
   "metadata": {},
   "outputs": [],
   "source": [
    "AB_T = A.dot(B).T"
   ]
  },
  {
   "cell_type": "code",
   "execution_count": 18,
   "id": "b36d0cf1",
   "metadata": {},
   "outputs": [],
   "source": [
    "B_TA_T= B.T.dot(A.T)"
   ]
  },
  {
   "cell_type": "code",
   "execution_count": 19,
   "id": "12fe7934",
   "metadata": {},
   "outputs": [
    {
     "name": "stdout",
     "output_type": "stream",
     "text": [
      "[[ True  True  True]\n",
      " [ True  True  True]]\n"
     ]
    }
   ],
   "source": [
    "print (AB_T == B_TA_T)"
   ]
  }
 ],
 "metadata": {
  "kernelspec": {
   "display_name": "Python 3 (ipykernel)",
   "language": "python",
   "name": "python3"
  },
  "language_info": {
   "codemirror_mode": {
    "name": "ipython",
    "version": 3
   },
   "file_extension": ".py",
   "mimetype": "text/x-python",
   "name": "python",
   "nbconvert_exporter": "python",
   "pygments_lexer": "ipython3",
   "version": "3.11.5"
  }
 },
 "nbformat": 4,
 "nbformat_minor": 5
}
