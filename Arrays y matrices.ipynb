{
 "cells": [
  {
   "cell_type": "code",
   "execution_count": 13,
   "id": "16f58419",
   "metadata": {},
   "outputs": [],
   "source": [
    "import numpy as np\n",
    "A = np.array([[1,2,3],[4,5,6],[7,8,9],[10,11,12]])\n",
    "B = np.array([[2,3],[5,7],[11,13]])\n",
    "C = np.array([[3,1],[4,2]])"
   ]
  },
  {
   "cell_type": "code",
   "execution_count": 14,
   "id": "776fabdd",
   "metadata": {},
   "outputs": [
    {
     "name": "stdout",
     "output_type": "stream",
     "text": [
      "[[ 359  157]\n",
      " [ 797  349]\n",
      " [1235  541]\n",
      " [1673  733]]\n"
     ]
    }
   ],
   "source": [
    "# Asociativa\n",
    "ABC = A.dot(B.dot(C))\n",
    "print(ABC)"
   ]
  },
  {
   "cell_type": "code",
   "execution_count": 15,
   "id": "d63ebe8b",
   "metadata": {},
   "outputs": [
    {
     "name": "stdout",
     "output_type": "stream",
     "text": [
      "[[ 359  157]\n",
      " [ 797  349]\n",
      " [1235  541]\n",
      " [1673  733]]\n"
     ]
    }
   ],
   "source": [
    "\n",
    "ab_c = A.dot(B).dot(C)\n",
    "print(ab_c)"
   ]
  },
  {
   "cell_type": "code",
   "execution_count": 16,
   "id": "16c39271",
   "metadata": {},
   "outputs": [
    {
     "ename": "ValueError",
     "evalue": "operands could not be broadcast together with shapes (3,2) (2,2) ",
     "output_type": "error",
     "traceback": [
      "\u001b[1;31m---------------------------------------------------------------------------\u001b[0m",
      "\u001b[1;31mValueError\u001b[0m                                Traceback (most recent call last)",
      "Cell \u001b[1;32mIn[16], line 2\u001b[0m\n\u001b[0;32m      1\u001b[0m \u001b[38;5;66;03m#Distrbutiva\u001b[39;00m\n\u001b[1;32m----> 2\u001b[0m D \u001b[38;5;241m=\u001b[39m A\u001b[38;5;241m.\u001b[39mdot(B\u001b[38;5;241m+\u001b[39mC)\n\u001b[0;32m      3\u001b[0m E \u001b[38;5;241m=\u001b[39m (A\u001b[38;5;241m.\u001b[39mdot(B))\u001b[38;5;241m+\u001b[39m(A\u001b[38;5;241m.\u001b[39mdot(C))\n",
      "\u001b[1;31mValueError\u001b[0m: operands could not be broadcast together with shapes (3,2) (2,2) "
     ]
    }
   ],
   "source": [
    "#Distrbutiva\n",
    "D = A.dot(B+C)\n",
    "E = (A.dot(B))+(A.dot(C))\n",
    "    "
   ]
  }
 ],
 "metadata": {
  "kernelspec": {
   "display_name": "Python 3 (ipykernel)",
   "language": "python",
   "name": "python3"
  },
  "language_info": {
   "codemirror_mode": {
    "name": "ipython",
    "version": 3
   },
   "file_extension": ".py",
   "mimetype": "text/x-python",
   "name": "python",
   "nbconvert_exporter": "python",
   "pygments_lexer": "ipython3",
   "version": "3.11.4"
  }
 },
 "nbformat": 4,
 "nbformat_minor": 5
}
