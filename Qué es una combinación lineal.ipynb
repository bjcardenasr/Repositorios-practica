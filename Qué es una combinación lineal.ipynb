{
 "cells": [
  {
   "cell_type": "code",
   "execution_count": 3,
   "id": "bc0f5d8b",
   "metadata": {},
   "outputs": [],
   "source": [
    "%matplotlib inline\n",
    "\n",
    "import numpy as np\n",
    "import matplotlib.pyplot as plt"
   ]
  },
  {
   "cell_type": "code",
   "execution_count": 8,
   "id": "b4d8e75a",
   "metadata": {},
   "outputs": [],
   "source": [
    "%run \".\\\\funciones_auxiliares\\\\Graficar_vectores.ipynb\""
   ]
  },
  {
   "cell_type": "code",
   "execution_count": 10,
   "id": "8f367737",
   "metadata": {},
   "outputs": [],
   "source": [
    "v1= np.array([2,6])\n",
    "v2= np.array([5,1])"
   ]
  },
  {
   "cell_type": "code",
   "execution_count": 11,
   "id": "67224f22",
   "metadata": {},
   "outputs": [],
   "source": [
    "v1v2 = 2*v1+3*v2"
   ]
  },
  {
   "cell_type": "code",
   "execution_count": 12,
   "id": "6bb86023",
   "metadata": {},
   "outputs": [
    {
     "name": "stdout",
     "output_type": "stream",
     "text": [
      "[19 15]\n"
     ]
    }
   ],
   "source": [
    "print(v1v2)"
   ]
  },
  {
   "cell_type": "code",
   "execution_count": null,
   "id": "bd7e2e93",
   "metadata": {},
   "outputs": [],
   "source": []
  }
 ],
 "metadata": {
  "kernelspec": {
   "display_name": "Python 3 (ipykernel)",
   "language": "python",
   "name": "python3"
  },
  "language_info": {
   "codemirror_mode": {
    "name": "ipython",
    "version": 3
   },
   "file_extension": ".py",
   "mimetype": "text/x-python",
   "name": "python",
   "nbconvert_exporter": "python",
   "pygments_lexer": "ipython3",
   "version": "3.11.4"
  }
 },
 "nbformat": 4,
 "nbformat_minor": 5
}
